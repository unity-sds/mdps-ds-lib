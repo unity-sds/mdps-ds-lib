{
 "cells": [
  {
   "metadata": {},
   "cell_type": "markdown",
   "source": "## Stage Out Example",
   "id": "30b6016bc9435c51"
  },
  {
   "metadata": {},
   "cell_type": "markdown",
   "source": [
    "Steps\n",
    "- Install Data Service (DS) Client Library\n",
    "- Set Log Level\n",
    "- Set Environment variables for Stage-Out\n",
    "- Try Stage-Out (Dry-Run Only)\n",
    "- Try Stage-Out\n",
    "- Check the results"
   ],
   "id": "41307b0225e83dcc"
  },
  {
   "metadata": {
    "ExecuteTime": {
     "end_time": "2025-02-10T17:41:17.675227Z",
     "start_time": "2025-02-10T17:41:16.781958Z"
    }
   },
   "cell_type": "code",
   "source": [
    "from anyio.streams import file\n",
    "%pip install mdps-ds-lib"
   ],
   "id": "fe80dd452ebd717b",
   "outputs": [
    {
     "name": "stdout",
     "output_type": "stream",
     "text": [
      "Requirement already satisfied: mdps-ds-lib in /Users/wphyo/anaconda3/envs/cs.7650/lib/python3.11/site-packages (1.1.1)\r\n",
      "Requirement already satisfied: boto3<2.0.0,>=1.26.51 in /Users/wphyo/anaconda3/envs/cs.7650/lib/python3.11/site-packages (from mdps-ds-lib) (1.36.15)\r\n",
      "Requirement already satisfied: elasticsearch==7.13.4 in /Users/wphyo/anaconda3/envs/cs.7650/lib/python3.11/site-packages (from mdps-ds-lib) (7.13.4)\r\n",
      "Requirement already satisfied: fastjsonschema<3.0.0,>=2.19.1 in /Users/wphyo/anaconda3/envs/cs.7650/lib/python3.11/site-packages (from mdps-ds-lib) (2.21.1)\r\n",
      "Requirement already satisfied: jsonschema<5.0.0,>=4.23.0 in /Users/wphyo/anaconda3/envs/cs.7650/lib/python3.11/site-packages (from mdps-ds-lib) (4.23.0)\r\n",
      "Requirement already satisfied: pystac==1.9.0 in /Users/wphyo/anaconda3/envs/cs.7650/lib/python3.11/site-packages (from mdps-ds-lib) (1.9.0)\r\n",
      "Requirement already satisfied: requests==2.31.0 in /Users/wphyo/anaconda3/envs/cs.7650/lib/python3.11/site-packages (from mdps-ds-lib) (2.31.0)\r\n",
      "Requirement already satisfied: requests-aws4auth==1.2.3 in /Users/wphyo/anaconda3/envs/cs.7650/lib/python3.11/site-packages (from mdps-ds-lib) (1.2.3)\r\n",
      "Requirement already satisfied: tenacity==8.2.3 in /Users/wphyo/anaconda3/envs/cs.7650/lib/python3.11/site-packages (from mdps-ds-lib) (8.2.3)\r\n",
      "Requirement already satisfied: xmltodict==0.13.0 in /Users/wphyo/anaconda3/envs/cs.7650/lib/python3.11/site-packages (from mdps-ds-lib) (0.13.0)\r\n",
      "Requirement already satisfied: urllib3<2,>=1.21.1 in /Users/wphyo/anaconda3/envs/cs.7650/lib/python3.11/site-packages (from elasticsearch==7.13.4->mdps-ds-lib) (1.26.20)\r\n",
      "Requirement already satisfied: certifi in /Users/wphyo/anaconda3/envs/cs.7650/lib/python3.11/site-packages (from elasticsearch==7.13.4->mdps-ds-lib) (2024.12.14)\r\n",
      "Requirement already satisfied: python-dateutil>=2.7.0 in /Users/wphyo/anaconda3/envs/cs.7650/lib/python3.11/site-packages (from pystac==1.9.0->mdps-ds-lib) (2.9.0.post0)\r\n",
      "Requirement already satisfied: charset-normalizer<4,>=2 in /Users/wphyo/anaconda3/envs/cs.7650/lib/python3.11/site-packages (from requests==2.31.0->mdps-ds-lib) (3.4.1)\r\n",
      "Requirement already satisfied: idna<4,>=2.5 in /Users/wphyo/anaconda3/envs/cs.7650/lib/python3.11/site-packages (from requests==2.31.0->mdps-ds-lib) (3.10)\r\n",
      "Requirement already satisfied: six in /Users/wphyo/anaconda3/envs/cs.7650/lib/python3.11/site-packages (from requests-aws4auth==1.2.3->mdps-ds-lib) (1.17.0)\r\n",
      "Requirement already satisfied: botocore<1.37.0,>=1.36.15 in /Users/wphyo/anaconda3/envs/cs.7650/lib/python3.11/site-packages (from boto3<2.0.0,>=1.26.51->mdps-ds-lib) (1.36.15)\r\n",
      "Requirement already satisfied: jmespath<2.0.0,>=0.7.1 in /Users/wphyo/anaconda3/envs/cs.7650/lib/python3.11/site-packages (from boto3<2.0.0,>=1.26.51->mdps-ds-lib) (1.0.1)\r\n",
      "Requirement already satisfied: s3transfer<0.12.0,>=0.11.0 in /Users/wphyo/anaconda3/envs/cs.7650/lib/python3.11/site-packages (from boto3<2.0.0,>=1.26.51->mdps-ds-lib) (0.11.2)\r\n",
      "Requirement already satisfied: attrs>=22.2.0 in /Users/wphyo/anaconda3/envs/cs.7650/lib/python3.11/site-packages (from jsonschema<5.0.0,>=4.23.0->mdps-ds-lib) (24.3.0)\r\n",
      "Requirement already satisfied: jsonschema-specifications>=2023.03.6 in /Users/wphyo/anaconda3/envs/cs.7650/lib/python3.11/site-packages (from jsonschema<5.0.0,>=4.23.0->mdps-ds-lib) (2024.10.1)\r\n",
      "Requirement already satisfied: referencing>=0.28.4 in /Users/wphyo/anaconda3/envs/cs.7650/lib/python3.11/site-packages (from jsonschema<5.0.0,>=4.23.0->mdps-ds-lib) (0.35.1)\r\n",
      "Requirement already satisfied: rpds-py>=0.7.1 in /Users/wphyo/anaconda3/envs/cs.7650/lib/python3.11/site-packages (from jsonschema<5.0.0,>=4.23.0->mdps-ds-lib) (0.22.3)\r\n",
      "Note: you may need to restart the kernel to use updated packages.\n"
     ]
    }
   ],
   "execution_count": 3
  },
  {
   "metadata": {},
   "cell_type": "markdown",
   "source": [
    "### Setting the Log Level\n",
    "- Log level mappings:\n",
    "- 10 = debug\n",
    "- 20 = info\n",
    "- 30 = warning\n",
    "- 40 = error"
   ],
   "id": "e6bf69a910209c6c"
  },
  {
   "metadata": {
    "ExecuteTime": {
     "end_time": "2025-02-10T17:41:24.968457Z",
     "start_time": "2025-02-10T17:41:24.965823Z"
    }
   },
   "cell_type": "code",
   "source": [
    "import logging\n",
    "log_level = 30\n",
    "logging.basicConfig(level=log_level, format=\"%(asctime)s [%(levelname)s] [%(name)s::%(lineno)d] %(message)s\")"
   ],
   "id": "d2aaaee1a57cb095",
   "outputs": [],
   "execution_count": 4
  },
  {
   "metadata": {},
   "cell_type": "markdown",
   "source": [
    "### Stage-out Only Environment Variables\n",
    "\n",
    "Follow this link for more information: https://app.gitbook.com/o/xZRqGQeQXJ0RP4VMj7Lq/s/UMIRhLdbRQTvMWop8Il9/developer-docs/data/docs/users-guide/stage-out"
   ],
   "id": "44c5455db73d82c0"
  },
  {
   "metadata": {
    "ExecuteTime": {
     "end_time": "2025-02-10T21:25:22.300759Z",
     "start_time": "2025-02-10T21:25:22.297419Z"
    }
   },
   "cell_type": "code",
   "source": [
    "import os\n",
    "from mdps_ds_lib.lib.utils.file_utils import FileUtils\n",
    "\n",
    "# The following environment variables are needed to \"stage-in\" from AWS S3\n",
    "# They will also be needed if \"EDL\" settings and \"STAC_AUTH_TYPE\" settings are coming from parameter store\n",
    "# Note that this may not be needed if JupyterNotebook can take care of the access.\n",
    "os.environ['AWS_ACCESS_KEY_ID'] = 'xxx'\n",
    "os.environ['AWS_SECRET_ACCESS_KEY'] = 'xxx'\n",
    "os.environ['AWS_SESSION_TOKEN'] = 'xxx'\n",
    "\n",
    "os.environ['PROJECT'] = 'DEMO'\n",
    "os.environ['VENUE'] = 'DEV43'\n",
    "\n",
    "os.environ['VERIFY_SSL'] = 'FALSE'\n",
    "os.environ['RESULT_PATH_PREFIX'] = ''  # We can usually ignore this\n",
    "os.environ['STAGING_BUCKET'] = 'uds-sbx-cumulus-staging'\n",
    "os.environ['GRANULES_SEARCH_DOMAIN'] = 'UNITY'\n",
    "os.environ['OUTPUT_FILE'] = 'normal-stage-out/some_output/output.json'\n",
    "os.environ['OUTPUT_DIRECTORY'] = 'normal-stage-out/output_dir'\n",
    "FileUtils.mk_dir_p(os.environ.get('OUTPUT_DIRECTORY'))\n",
    "os.environ['CATALOG_FILE'] = 'normal-stage-out/catalog.json'"
   ],
   "id": "518885efaf032c92",
   "outputs": [],
   "execution_count": 23
  },
  {
   "metadata": {},
   "cell_type": "markdown",
   "source": "#### Sample catalog.json used as a guide for stage-out",
   "id": "c4db172f84e3e689"
  },
  {
   "metadata": {},
   "cell_type": "code",
   "outputs": [],
   "execution_count": null,
   "source": [
    "{\n",
    "    \"type\": \"Catalog\",\n",
    "    \"id\": \"NA\",\n",
    "    \"stac_version\": \"1.0.0\",\n",
    "    \"description\": \"NA\",\n",
    "    \"links\": [\n",
    "        {\n",
    "            \"rel\": \"root\",\n",
    "            \"href\": \"/tmp/normal-stage-out/catalog.json\",\n",
    "            \"type\": \"application/json\"\n",
    "        },\n",
    "        {\n",
    "            \"rel\": \"item\",\n",
    "            \"href\": \"some_granules/test_file01.nc.stac.json\",\n",
    "            \"type\": \"application/json\"\n",
    "        },\n",
    "        {\n",
    "            \"rel\": \"item\",\n",
    "            \"href\": \"some_granules/test_file02.nc.stac.json\",\n",
    "            \"type\": \"application/json\"\n",
    "        },\n",
    "        {\n",
    "            \"rel\": \"item\",\n",
    "            \"href\": \"some_granules/test_file03.nc.stac.json\",\n",
    "            \"type\": \"application/json\"\n",
    "        },\n",
    "        {\n",
    "            \"rel\": \"item\",\n",
    "            \"href\": \"some_granules/test_file04.nc.stac.json\",\n",
    "            \"type\": \"application/json\"\n",
    "        },\n",
    "        {\n",
    "            \"rel\": \"item\",\n",
    "            \"href\": \"some_granules/test_file05.nc.stac.json\",\n",
    "            \"type\": \"application/json\"\n",
    "        },\n",
    "        {\n",
    "            \"rel\": \"item\",\n",
    "            \"href\": \"some_granules/test_file06.nc.stac.json\",\n",
    "            \"type\": \"application/json\"\n",
    "        },\n",
    "        {\n",
    "            \"rel\": \"item\",\n",
    "            \"href\": \"some_granules/test_file07.nc.stac.json\",\n",
    "            \"type\": \"application/json\"\n",
    "        },\n",
    "        {\n",
    "            \"rel\": \"item\",\n",
    "            \"href\": \"some_granules/test_file08.nc.stac.json\",\n",
    "            \"type\": \"application/json\"\n",
    "        },\n",
    "        {\n",
    "            \"rel\": \"item\",\n",
    "            \"href\": \"some_granules/test_file09.nc.stac.json\",\n",
    "            \"type\": \"application/json\"\n",
    "        },\n",
    "        {\n",
    "            \"rel\": \"item\",\n",
    "            \"href\": \"some_granules/test_file10.nc.stac.json\",\n",
    "            \"type\": \"application/json\"\n",
    "        }\n",
    "    ]\n",
    "}"
   ],
   "id": "1b7097396bfbb1f3"
  },
  {
   "metadata": {},
   "cell_type": "markdown",
   "source": [
    "- Creating Some Mock Files for stage-out including STAC metadata file and a catalog\n",
    "- Note that this is usually not done here as the application will take care of it.\n",
    "- How each stac metadata file is created can be used as an example though"
   ],
   "id": "f71cb9161be6325d"
  },
  {
   "metadata": {
    "ExecuteTime": {
     "end_time": "2025-02-10T19:51:39.435978Z",
     "start_time": "2025-02-10T19:51:39.425621Z"
    }
   },
   "cell_type": "code",
   "source": [
    "import json\n",
    "from mdps_ds_lib.lib.utils.time_utils import TimeUtils\n",
    "from pystac import Item, Asset, Catalog, Link\n",
    "\n",
    "granules_dir = os.path.join('normal-stage-out', 'some_granules')\n",
    "FileUtils.mk_dir_p(granules_dir)  # base directory\n",
    "total_files = 3  # Uploading 3 mock granules\n",
    "\n",
    "catalog = Catalog(  # Creating a STAC catalog (an example from previous cell)\n",
    "    id='NA',  # we don't need to know the ID\n",
    "    description='NA')\n",
    "catalog.set_self_href(os.environ['CATALOG_FILE'])\n",
    "\n",
    "for i in range(1, total_files+1):\n",
    "    filename = f'test_file{i:02d}'\n",
    "    with open(os.path.join(granules_dir, f'{filename}.nc'), 'w') as ff:  # Creating Data File\n",
    "        ff.write('sample_file')\n",
    "    with open(os.path.join(granules_dir, f'{filename}.nc.cas'), 'w') as ff:  # Creating native metadata file\n",
    "        ff.write('''<?xml version=\"1.0\" encoding=\"UTF-8\" ?>\n",
    "            <cas:metadata xmlns:cas=\"http://oodt.jpl.nasa.gov/1.0/cas\">\n",
    "                <keyval type=\"scalar\">\n",
    "                    <key>AggregateDir</key>\n",
    "                    <val>snppatmsl1a</val>\n",
    "                </keyval>\n",
    "                <keyval type=\"vector\">\n",
    "                    <key>AutomaticQualityFlag</key>\n",
    "                    <val>Passed</val>\n",
    "                </keyval>\n",
    "                <keyval type=\"vector\">\n",
    "                    <key>BuildId</key>\n",
    "                    <val>v01.43.00</val>\n",
    "                </keyval>\n",
    "                <keyval type=\"vector\">\n",
    "                    <key>CollectionLabel</key>\n",
    "                    <val>L1AMw_nominal2</val>\n",
    "                </keyval>\n",
    "                <keyval type=\"scalar\">\n",
    "                    <key>DataGroup</key>\n",
    "                    <val>sndr</val>\n",
    "                </keyval>\n",
    "                <keyval type=\"scalar\">\n",
    "                    <key>EndDateTime</key>\n",
    "                    <val>2016-01-14T10:06:00.000Z</val>\n",
    "                </keyval>\n",
    "                <keyval type=\"scalar\">\n",
    "                    <key>EndTAI93</key>\n",
    "                    <val>726919569.000</val>\n",
    "                </keyval>\n",
    "                <keyval type=\"scalar\">\n",
    "                    <key>FileFormat</key>\n",
    "                    <val>nc4</val>\n",
    "                </keyval>\n",
    "                <keyval type=\"scalar\">\n",
    "                    <key>FileLocation</key>\n",
    "                    <val>/pge/out</val>\n",
    "                </keyval>\n",
    "                <keyval type=\"scalar\">\n",
    "                    <key>Filename</key>\n",
    "                    <val>SNDR.SNPP.ATMS.L1A.nominal2.02.nc</val>\n",
    "                </keyval>\n",
    "                <keyval type=\"vector\">\n",
    "                    <key>GranuleNumber</key>\n",
    "                    <val>101</val>\n",
    "                </keyval>\n",
    "                <keyval type=\"scalar\">\n",
    "                    <key>JobId</key>\n",
    "                    <val>f163835c-9945-472f-bee2-2bc12673569f</val>\n",
    "                </keyval>\n",
    "                <keyval type=\"scalar\">\n",
    "                    <key>ModelId</key>\n",
    "                    <val>urn:npp:SnppAtmsL1a</val>\n",
    "                </keyval>\n",
    "                <keyval type=\"scalar\">\n",
    "                    <key>NominalDate</key>\n",
    "                    <val>2016-01-14</val>\n",
    "                </keyval>\n",
    "                <keyval type=\"vector\">\n",
    "                    <key>ProductName</key>\n",
    "                    <val>SNDR.SNPP.ATMS.20160114T1000.m06.g101.L1A.L1AMw_nominal2.v03_15_00.D.201214135000.nc</val>\n",
    "                </keyval>\n",
    "                <keyval type=\"scalar\">\n",
    "                    <key>ProductType</key>\n",
    "                    <val>SNDR_SNPP_ATMS_L1A</val>\n",
    "                </keyval>\n",
    "                <keyval type=\"scalar\">\n",
    "                    <key>ProductionDateTime</key>\n",
    "                    <val>2020-12-14T13:50:00.000Z</val>\n",
    "                </keyval>\n",
    "                <keyval type=\"vector\">\n",
    "                    <key>ProductionLocation</key>\n",
    "                    <val>Sounder SIPS: JPL/Caltech (Dev)</val>\n",
    "                </keyval>\n",
    "                <keyval type=\"vector\">\n",
    "                    <key>ProductionLocationCode</key>\n",
    "                    <val>D</val>\n",
    "                </keyval>\n",
    "                <keyval type=\"scalar\">\n",
    "                    <key>RequestId</key>\n",
    "                    <val>1215</val>\n",
    "                </keyval>\n",
    "                <keyval type=\"scalar\">\n",
    "                    <key>StartDateTime</key>\n",
    "                    <val>2016-01-14T10:00:00.000Z</val>\n",
    "                </keyval>\n",
    "                <keyval type=\"scalar\">\n",
    "                    <key>StartTAI93</key>\n",
    "                    <val>726919209.000</val>\n",
    "                </keyval>\n",
    "                <keyval type=\"scalar\">\n",
    "                    <key>TaskId</key>\n",
    "                    <val>8c3ae101-8f7c-46c8-b5c6-63e7b6d3c8cd</val>\n",
    "                </keyval>\n",
    "            </cas:metadata>''')\n",
    "    # Creating STAC metadata file object which is used by DS during stage-out and cataloging.\n",
    "    # pystac library is used to create a stac item file to have a standardized stac.\n",
    "    stac_item = Item(id=filename,\n",
    "                     geometry={  # Set them if the algorithm knows what type of geometry is needed\n",
    "                         \"type\": \"Point\",\n",
    "                         \"coordinates\": [0.0, 0.0]\n",
    "                     },\n",
    "                     bbox=[-180, -90, 180, 90],  # Set them if the algorithm knows what type of geometry is needed\n",
    "                     datetime=TimeUtils().parse_from_unix(0, True).get_datetime_obj(),  # Current metadata file creation datetime\n",
    "                     properties={  # These 4 fields are mandatory\n",
    "                         \"start_datetime\": \"2016-01-31T18:00:00.009057Z\",\n",
    "                         \"end_datetime\": \"2016-01-31T19:59:59.991043Z\",\n",
    "                         \"created\": \"2016-02-01T02:45:59.639000Z\",\n",
    "                         \"updated\": \"2022-03-23T15:48:21.578000Z\",\n",
    "                     },\n",
    "                     href=os.path.join('some_granules', f'{filename}.nc.stac.json'),\n",
    "                     collection='NA',  # No need to find out what collection it belongs to DS will take care of that.\n",
    "                     assets={  # Point to all relevant files including itself\n",
    "                         f'{filename}.nc': Asset(os.path.join('.', f'{filename}.nc'), title='test_file01.nc', roles=['data']),\n",
    "                         f'{filename}.nc.cas': Asset(os.path.join('.', f'{filename}.nc.cas'), title='test_file01.nc.cas', roles=['metadata']),\n",
    "                         f'{filename}.nc.stac.json': Asset(os.path.join('.', f'{filename}.nc.stac.json'), title='test_file01.nc.stac.json', roles=['metadata']),\n",
    "                     })\n",
    "    with open(os.path.join(granules_dir, f'{filename}.nc.stac.json'), 'w') as ff:  # Creating STAC metadata file\n",
    "        ff.write(json.dumps(stac_item.to_dict(False, False)))\n",
    "    # Adding to the Catalog so that DS can find out the STAC file and finds out other related files from STAC\n",
    "    catalog.add_link(Link('item', os.path.join('some_granules', f'{filename}.nc.stac.json'), 'application/json'))\n",
    "# Writing the main catalog file\n",
    "with open(os.environ['CATALOG_FILE'], 'w') as ff:\n",
    "    ff.write(json.dumps(catalog.to_dict(False, False)))\n"
   ],
   "id": "cd2793837298e627",
   "outputs": [],
   "execution_count": 14
  },
  {
   "metadata": {},
   "cell_type": "markdown",
   "source": "### Performing Stage-out as a dry-run to verify if things are setup correctly",
   "id": "7cd0f6aaaa07ef8e"
  },
  {
   "metadata": {
    "ExecuteTime": {
     "end_time": "2025-02-10T21:26:41.690596Z",
     "start_time": "2025-02-10T21:26:38.269917Z"
    }
   },
   "cell_type": "code",
   "source": [
    "os.environ['DRY_RUN'] = 'TRUE'\n",
    "from mdps_ds_lib.stage_in_out.upoad_granules_factory import UploadGranulesFactory\n",
    "\n",
    "upload_result = UploadGranulesFactory().get_class(UploadGranulesFactory.UPLOAD_S3_BY_STAC_CATALOG).upload()\n",
    "print(upload_result)"
   ],
   "id": "c46d384d19572817",
   "outputs": [
    {
     "name": "stdout",
     "output_type": "stream",
     "text": [
      "Result of dry-run\n",
      "{\n",
      "    \"granule_file\": \"normal-stage-out/some_granules/test_file02.nc.stac.json\",\n",
      "    \"s3_url\": \"s3://uds-sbx-cumulus-staging/URN:NASA:UNITY:DEMO:DEV43:NA___001/URN:NASA:UNITY:DEMO:DEV43:NA___001:test_file02/test_file02.nc\"\n",
      "}\n",
      "{\n",
      "    \"granule_file\": \"normal-stage-out/some_granules/test_file02.nc.stac.json\",\n",
      "    \"s3_url\": \"s3://uds-sbx-cumulus-staging/URN:NASA:UNITY:DEMO:DEV43:NA___001/URN:NASA:UNITY:DEMO:DEV43:NA___001:test_file02/test_file02.nc.cas\"\n",
      "}\n",
      "{\n",
      "    \"granule_file\": \"normal-stage-out/some_granules/test_file02.nc.stac.json\",\n",
      "    \"s3_url\": \"s3://uds-sbx-cumulus-staging/URN:NASA:UNITY:DEMO:DEV43:NA___001/URN:NASA:UNITY:DEMO:DEV43:NA___001:test_file02/test_file02.nc.stac.json\"\n",
      "}\n",
      "{\n",
      "    \"granule_file\": \"normal-stage-out/some_granules/test_file03.nc.stac.json\",\n",
      "    \"s3_url\": \"s3://uds-sbx-cumulus-staging/URN:NASA:UNITY:DEMO:DEV43:NA___001/URN:NASA:UNITY:DEMO:DEV43:NA___001:test_file03/test_file03.nc\"\n",
      "}\n",
      "{\n",
      "    \"granule_file\": \"normal-stage-out/some_granules/test_file03.nc.stac.json\",\n",
      "    \"s3_url\": \"s3://uds-sbx-cumulus-staging/URN:NASA:UNITY:DEMO:DEV43:NA___001/URN:NASA:UNITY:DEMO:DEV43:NA___001:test_file03/test_file03.nc.cas\"\n",
      "}\n",
      "{\n",
      "    \"granule_file\": \"normal-stage-out/some_granules/test_file03.nc.stac.json\",\n",
      "    \"s3_url\": \"s3://uds-sbx-cumulus-staging/URN:NASA:UNITY:DEMO:DEV43:NA___001/URN:NASA:UNITY:DEMO:DEV43:NA___001:test_file03/test_file03.nc.stac.json\"\n",
      "}\n",
      "{\n",
      "    \"granule_file\": \"normal-stage-out/some_granules/test_file01.nc.stac.json\",\n",
      "    \"s3_url\": \"s3://uds-sbx-cumulus-staging/URN:NASA:UNITY:DEMO:DEV43:NA___001/URN:NASA:UNITY:DEMO:DEV43:NA___001:test_file01/test_file01.nc\"\n",
      "}\n",
      "{\n",
      "    \"granule_file\": \"normal-stage-out/some_granules/test_file01.nc.stac.json\",\n",
      "    \"s3_url\": \"s3://uds-sbx-cumulus-staging/URN:NASA:UNITY:DEMO:DEV43:NA___001/URN:NASA:UNITY:DEMO:DEV43:NA___001:test_file01/test_file01.nc.cas\"\n",
      "}\n",
      "{\n",
      "    \"granule_file\": \"normal-stage-out/some_granules/test_file01.nc.stac.json\",\n",
      "    \"s3_url\": \"s3://uds-sbx-cumulus-staging/URN:NASA:UNITY:DEMO:DEV43:NA___001/URN:NASA:UNITY:DEMO:DEV43:NA___001:test_file01/test_file01.nc.stac.json\"\n",
      "}\n",
      "{}\n"
     ]
    }
   ],
   "execution_count": 25
  },
  {
   "metadata": {},
   "cell_type": "markdown",
   "source": "### Performing Stage-out",
   "id": "e87a8f50d52e90dc"
  },
  {
   "metadata": {
    "ExecuteTime": {
     "end_time": "2025-02-10T21:29:21.314515Z",
     "start_time": "2025-02-10T21:29:21.311438Z"
    }
   },
   "cell_type": "code",
   "source": [
    "from glob import glob\n",
    "\n",
    "# Cleaning old result files.\n",
    "\n",
    "old_result_files = glob(os.path.join(os.environ['OUTPUT_DIRECTORY'], '*'))\n",
    "for each_file in old_result_files:\n",
    "    FileUtils.remove_if_exists(each_file)"
   ],
   "id": "cda0ee7d594d1513",
   "outputs": [],
   "execution_count": 32
  },
  {
   "metadata": {
    "ExecuteTime": {
     "end_time": "2025-02-10T21:29:27.704310Z",
     "start_time": "2025-02-10T21:29:23.201698Z"
    }
   },
   "cell_type": "code",
   "source": [
    "\n",
    "os.environ['DRY_RUN'] = 'FALSE'\n",
    "\n",
    "FileUtils.remove_if_exists(os.environ['OUTPUT_DIRECTORY'])\n",
    "from mdps_ds_lib.stage_in_out.upoad_granules_factory import UploadGranulesFactory\n",
    "\n",
    "upload_result = UploadGranulesFactory().get_class(UploadGranulesFactory.UPLOAD_S3_BY_STAC_CATALOG).upload()\n",
    "print(upload_result)"
   ],
   "id": "2e98b386bd09a655",
   "outputs": [
    {
     "name": "stderr",
     "output_type": "stream",
     "text": [
      "2025-02-10 13:29:23,648 [AUDIT] [mdps_ds_lib.stage_in_out.upload_granules_by_complete_catalog_s3::11] uploading type=data, name=test_file01.nc, href=normal-stage-out/some_granules/./test_file01.nc\n",
      "2025-02-10 13:29:23,648 [AUDIT] [mdps_ds_lib.stage_in_out.upload_granules_by_complete_catalog_s3::11] uploading type=data, name=test_file02.nc, href=normal-stage-out/some_granules/./test_file02.nc\n",
      "2025-02-10 13:29:23,650 [AUDIT] [mdps_ds_lib.stage_in_out.upload_granules_by_complete_catalog_s3::11] uploading type=data, name=test_file03.nc, href=normal-stage-out/some_granules/./test_file03.nc\n",
      "2025-02-10 13:29:24,041 [AUDIT] [mdps_ds_lib.stage_in_out.upload_granules_by_complete_catalog_s3::11] uploading type=metadata, name=test_file02.nc.cas, href=normal-stage-out/some_granules/./test_file02.nc.cas\n",
      "2025-02-10 13:29:24,043 [AUDIT] [mdps_ds_lib.stage_in_out.upload_granules_by_complete_catalog_s3::11] uploading type=metadata, name=test_file03.nc.cas, href=normal-stage-out/some_granules/./test_file03.nc.cas\n",
      "2025-02-10 13:29:24,053 [AUDIT] [mdps_ds_lib.stage_in_out.upload_granules_by_complete_catalog_s3::11] uploading type=metadata, name=test_file01.nc.cas, href=normal-stage-out/some_granules/./test_file01.nc.cas\n",
      "2025-02-10 13:29:24,202 [AUDIT] [mdps_ds_lib.stage_in_out.upload_granules_by_complete_catalog_s3::11] uploading type=metadata, name=test_file02.nc.stac.json, href=normal-stage-out/some_granules/./test_file02.nc.stac.json\n",
      "2025-02-10 13:29:24,207 [AUDIT] [mdps_ds_lib.stage_in_out.upload_granules_by_complete_catalog_s3::11] uploading type=metadata, name=test_file03.nc.stac.json, href=normal-stage-out/some_granules/./test_file03.nc.stac.json\n",
      "2025-02-10 13:29:24,215 [AUDIT] [mdps_ds_lib.stage_in_out.upload_granules_by_complete_catalog_s3::11] uploading type=metadata, name=test_file01.nc.stac.json, href=normal-stage-out/some_granules/./test_file01.nc.stac.json\n"
     ]
    },
    {
     "name": "stdout",
     "output_type": "stream",
     "text": [
      "{\"type\": \"Catalog\", \"id\": \"NA\", \"stac_version\": \"1.0.0\", \"description\": \"NA\", \"links\": [{\"rel\": \"root\", \"href\": \"/Users/wphyo/Projects/unity/uds_lib/examples/normal-stage-out/catalog.json\", \"type\": \"application/json\"}, {\"rel\": \"item\", \"href\": \"normal-stage-out/output_dir/successful_features.json\", \"type\": \"application/json\"}, {\"rel\": \"item\", \"href\": \"normal-stage-out/output_dir/failed_features.json\", \"type\": \"application/json\"}]}\n"
     ]
    }
   ],
   "execution_count": 33
  },
  {
   "metadata": {},
   "cell_type": "markdown",
   "source": "- Successful and failed items are written to 2 files into the directory set in `OUTPUT_DIRECTORY`",
   "id": "61efcaa319b065b7"
  },
  {
   "metadata": {},
   "cell_type": "code",
   "outputs": [],
   "execution_count": null,
   "source": "",
   "id": "2987dc7d3c9d0898"
  }
 ],
 "metadata": {
  "kernelspec": {
   "display_name": "Python 3",
   "language": "python",
   "name": "python3"
  },
  "language_info": {
   "codemirror_mode": {
    "name": "ipython",
    "version": 2
   },
   "file_extension": ".py",
   "mimetype": "text/x-python",
   "name": "python",
   "nbconvert_exporter": "python",
   "pygments_lexer": "ipython2",
   "version": "2.7.6"
  }
 },
 "nbformat": 4,
 "nbformat_minor": 5
}
