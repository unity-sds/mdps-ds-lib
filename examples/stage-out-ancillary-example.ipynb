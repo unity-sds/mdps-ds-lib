{
 "cells": [
  {
   "metadata": {},
   "cell_type": "markdown",
   "source": "## Stage Out (Ancillary) Example",
   "id": "30b6016bc9435c51"
  },
  {
   "metadata": {},
   "cell_type": "markdown",
   "source": [
    "Steps\n",
    "- Install Data Service (DS) Client Library\n",
    "- Set Log Level\n",
    "- Set Environment variables for Stage-Out (Ancillary\n",
    "- Try Stage-Out Ancillary Files\n",
    "- Check the results"
   ],
   "id": "41307b0225e83dcc"
  },
  {
   "metadata": {
    "ExecuteTime": {
     "end_time": "2025-02-11T19:57:35.450042Z",
     "start_time": "2025-02-11T19:57:34.844022Z"
    }
   },
   "cell_type": "code",
   "source": [
    "from anyio.streams import file\n",
    "%pip install mdps-ds-lib"
   ],
   "id": "fe80dd452ebd717b",
   "outputs": [
    {
     "name": "stdout",
     "output_type": "stream",
     "text": [
      "Requirement already satisfied: mdps-ds-lib in /Users/wphyo/anaconda3/envs/cs.7650/lib/python3.11/site-packages (1.1.1)\r\n",
      "Requirement already satisfied: boto3<2.0.0,>=1.26.51 in /Users/wphyo/anaconda3/envs/cs.7650/lib/python3.11/site-packages (from mdps-ds-lib) (1.36.15)\r\n",
      "Requirement already satisfied: elasticsearch==7.13.4 in /Users/wphyo/anaconda3/envs/cs.7650/lib/python3.11/site-packages (from mdps-ds-lib) (7.13.4)\r\n",
      "Requirement already satisfied: fastjsonschema<3.0.0,>=2.19.1 in /Users/wphyo/anaconda3/envs/cs.7650/lib/python3.11/site-packages (from mdps-ds-lib) (2.21.1)\r\n",
      "Requirement already satisfied: jsonschema<5.0.0,>=4.23.0 in /Users/wphyo/anaconda3/envs/cs.7650/lib/python3.11/site-packages (from mdps-ds-lib) (4.23.0)\r\n",
      "Requirement already satisfied: pystac==1.9.0 in /Users/wphyo/anaconda3/envs/cs.7650/lib/python3.11/site-packages (from mdps-ds-lib) (1.9.0)\r\n",
      "Requirement already satisfied: requests==2.31.0 in /Users/wphyo/anaconda3/envs/cs.7650/lib/python3.11/site-packages (from mdps-ds-lib) (2.31.0)\r\n",
      "Requirement already satisfied: requests-aws4auth==1.2.3 in /Users/wphyo/anaconda3/envs/cs.7650/lib/python3.11/site-packages (from mdps-ds-lib) (1.2.3)\r\n",
      "Requirement already satisfied: tenacity==8.2.3 in /Users/wphyo/anaconda3/envs/cs.7650/lib/python3.11/site-packages (from mdps-ds-lib) (8.2.3)\r\n",
      "Requirement already satisfied: xmltodict==0.13.0 in /Users/wphyo/anaconda3/envs/cs.7650/lib/python3.11/site-packages (from mdps-ds-lib) (0.13.0)\r\n",
      "Requirement already satisfied: urllib3<2,>=1.21.1 in /Users/wphyo/anaconda3/envs/cs.7650/lib/python3.11/site-packages (from elasticsearch==7.13.4->mdps-ds-lib) (1.26.20)\r\n",
      "Requirement already satisfied: certifi in /Users/wphyo/anaconda3/envs/cs.7650/lib/python3.11/site-packages (from elasticsearch==7.13.4->mdps-ds-lib) (2024.12.14)\r\n",
      "Requirement already satisfied: python-dateutil>=2.7.0 in /Users/wphyo/anaconda3/envs/cs.7650/lib/python3.11/site-packages (from pystac==1.9.0->mdps-ds-lib) (2.9.0.post0)\r\n",
      "Requirement already satisfied: charset-normalizer<4,>=2 in /Users/wphyo/anaconda3/envs/cs.7650/lib/python3.11/site-packages (from requests==2.31.0->mdps-ds-lib) (3.4.1)\r\n",
      "Requirement already satisfied: idna<4,>=2.5 in /Users/wphyo/anaconda3/envs/cs.7650/lib/python3.11/site-packages (from requests==2.31.0->mdps-ds-lib) (3.10)\r\n",
      "Requirement already satisfied: six in /Users/wphyo/anaconda3/envs/cs.7650/lib/python3.11/site-packages (from requests-aws4auth==1.2.3->mdps-ds-lib) (1.17.0)\r\n",
      "Requirement already satisfied: botocore<1.37.0,>=1.36.15 in /Users/wphyo/anaconda3/envs/cs.7650/lib/python3.11/site-packages (from boto3<2.0.0,>=1.26.51->mdps-ds-lib) (1.36.15)\r\n",
      "Requirement already satisfied: jmespath<2.0.0,>=0.7.1 in /Users/wphyo/anaconda3/envs/cs.7650/lib/python3.11/site-packages (from boto3<2.0.0,>=1.26.51->mdps-ds-lib) (1.0.1)\r\n",
      "Requirement already satisfied: s3transfer<0.12.0,>=0.11.0 in /Users/wphyo/anaconda3/envs/cs.7650/lib/python3.11/site-packages (from boto3<2.0.0,>=1.26.51->mdps-ds-lib) (0.11.2)\r\n",
      "Requirement already satisfied: attrs>=22.2.0 in /Users/wphyo/anaconda3/envs/cs.7650/lib/python3.11/site-packages (from jsonschema<5.0.0,>=4.23.0->mdps-ds-lib) (24.3.0)\r\n",
      "Requirement already satisfied: jsonschema-specifications>=2023.03.6 in /Users/wphyo/anaconda3/envs/cs.7650/lib/python3.11/site-packages (from jsonschema<5.0.0,>=4.23.0->mdps-ds-lib) (2024.10.1)\r\n",
      "Requirement already satisfied: referencing>=0.28.4 in /Users/wphyo/anaconda3/envs/cs.7650/lib/python3.11/site-packages (from jsonschema<5.0.0,>=4.23.0->mdps-ds-lib) (0.35.1)\r\n",
      "Requirement already satisfied: rpds-py>=0.7.1 in /Users/wphyo/anaconda3/envs/cs.7650/lib/python3.11/site-packages (from jsonschema<5.0.0,>=4.23.0->mdps-ds-lib) (0.22.3)\r\n",
      "Note: you may need to restart the kernel to use updated packages.\n"
     ]
    }
   ],
   "execution_count": 1
  },
  {
   "metadata": {},
   "cell_type": "markdown",
   "source": [
    "### Setting the Log Level\n",
    "- Log level mappings:\n",
    "- 10 = debug\n",
    "- 20 = info\n",
    "- 30 = warning\n",
    "- 40 = error"
   ],
   "id": "e6bf69a910209c6c"
  },
  {
   "metadata": {
    "ExecuteTime": {
     "end_time": "2025-02-11T19:57:38.535713Z",
     "start_time": "2025-02-11T19:57:38.532166Z"
    }
   },
   "cell_type": "code",
   "source": [
    "import logging\n",
    "log_level = 30\n",
    "logging.basicConfig(level=log_level, format=\"%(asctime)s [%(levelname)s] [%(name)s::%(lineno)d] %(message)s\")"
   ],
   "id": "d2aaaee1a57cb095",
   "outputs": [],
   "execution_count": 2
  },
  {
   "metadata": {},
   "cell_type": "markdown",
   "source": [
    "### Stage-out (Ancillary) Only Environment Variables\n",
    "\n",
    "Follow this link for more information: https://app.gitbook.com/o/xZRqGQeQXJ0RP4VMj7Lq/s/UMIRhLdbRQTvMWop8Il9/developer-docs/data/docs/users-guide/stage-out"
   ],
   "id": "44c5455db73d82c0"
  },
  {
   "metadata": {
    "ExecuteTime": {
     "end_time": "2025-02-11T19:57:45.072584Z",
     "start_time": "2025-02-11T19:57:45.036781Z"
    }
   },
   "cell_type": "code",
   "source": [
    "from mdps_ds_lib.lib.utils.file_utils import FileUtils\n",
    "import os\n",
    "\n",
    "os.environ['AWS_ACCESS_KEY_ID'] = 'xxx'\n",
    "os.environ['AWS_SECRET_ACCESS_KEY'] = 'xxx'\n",
    "os.environ['AWS_SESSION_TOKEN'] = 'xxx'\n",
    "\n",
    "os.environ['GRANULES_UPLOAD_TYPE'] = 'UPLOAD_AUXILIARY_FILE_AS_GRANULE'  # Setting uploading as auxiliary\n",
    "os.environ['STAGING_BUCKET'] = 'uds-sbx-cumulus-staging'  # S3 bucket where they will reside\n",
    "os.environ['VERIFY_SSL'] = 'FALSE'  # Optional param.\n",
    "os.environ['BASE_DIRECTORY'] = 'auxiliary_files'  # Base folder to upload\n",
    "\n",
    "os.environ['OUTPUT_DIRECTORY'] = 'auxiliary_files/output_dir'  # the success / failure results to be stored locally for rewview\n",
    "os.environ['OUTPUT_FILE'] = 'auxiliary_files/output_dir/stage_out_result.json'  # file path where the result overview is written locally for\n",
    "\n",
    "tenant = 'UDS_DEMO'\n",
    "tenant_venue = 'TEST'\n",
    "collection_name = 'UDS_UNIT_COLLECTION'\n",
    "collection_version = '24.09.10.11.00'.replace('.', '')\n",
    "temp_collection_id = f'URN:NASA:UNITY:{tenant}:{tenant_venue}:{collection_name}___{collection_version}'\n",
    "os.environ['COLLECTION_ID'] = temp_collection_id  # Setting Collection ID.\n",
    "# Note that Collection ID needs to follow the standard.\n",
    "\n",
    "FileUtils.mk_dir_p(os.environ.get('OUTPUT_DIRECTORY'))\n"
   ],
   "id": "29f786b4ed0929b5",
   "outputs": [],
   "execution_count": 3
  },
  {
   "metadata": {},
   "cell_type": "markdown",
   "source": "#### Mocking some ancillary files",
   "id": "f40f81242b3930f7"
  },
  {
   "metadata": {
    "ExecuteTime": {
     "end_time": "2025-02-11T19:57:47.378396Z",
     "start_time": "2025-02-11T19:57:47.372003Z"
    }
   },
   "cell_type": "code",
   "source": [
    "granules_dir = os.path.join('auxiliary_files')\n",
    "FileUtils.mk_dir_p(granules_dir)  # base directory\n",
    "total_files = 3  # Uploading 3 mock files\n",
    "\n",
    "for i in range(1, total_files+1):\n",
    "    filename = f'mocked_general_file{i:02d}'\n",
    "    with open(os.path.join(granules_dir, f'{filename}'), 'w') as ff:  # Creating Data File\n",
    "        ff.write('mocked_general_file')"
   ],
   "id": "9b97566830b4afc",
   "outputs": [],
   "execution_count": 4
  },
  {
   "metadata": {},
   "cell_type": "markdown",
   "source": [
    "#### Performing actual stage-out\n",
    "- Note that there is no dry-run on ancillary stage-out since there are no settings that client setup."
   ],
   "id": "d516f0a9fffbdc2a"
  },
  {
   "metadata": {
    "ExecuteTime": {
     "end_time": "2025-02-11T19:57:54.140366Z",
     "start_time": "2025-02-11T19:57:54.136673Z"
    }
   },
   "cell_type": "code",
   "source": [
    "from glob import glob\n",
    "\n",
    "# Cleaning old result files.\n",
    "\n",
    "old_result_files = glob(os.path.join(os.environ['OUTPUT_DIRECTORY'], '*'))\n",
    "for each_file in old_result_files:\n",
    "    FileUtils.remove_if_exists(each_file)"
   ],
   "id": "c61692dd202c889c",
   "outputs": [],
   "execution_count": 5
  },
  {
   "metadata": {
    "ExecuteTime": {
     "end_time": "2025-02-11T19:57:59.320173Z",
     "start_time": "2025-02-11T19:57:55.038070Z"
    }
   },
   "cell_type": "code",
   "source": [
    "\n",
    "from mdps_ds_lib.stage_in_out.upoad_granules_factory import UploadGranulesFactory\n",
    "from mdps_ds_lib.stage_in_out.stage_in_out_utils import StageInOutUtils\n",
    "\n",
    "# Hardcoded method call. All params are set via environment previously\n",
    "upload_result_str = UploadGranulesFactory().get_class(os.getenv('GRANULES_UPLOAD_TYPE', UploadGranulesFactory.UPLOAD_S3_BY_STAC_CATALOG)).upload()\n",
    "StageInOutUtils.write_output_to_file(upload_result_str)\n",
    "print('done')"
   ],
   "id": "3aef5ceb43098a07",
   "outputs": [
    {
     "name": "stderr",
     "output_type": "stream",
     "text": [
      "2025-02-11 11:57:55,489 [AUDIT] [mdps_ds_lib.stage_in_out.upload_arbitrary_files_as_granules::11] uploading auxiliary file: auxiliary_files/mocked_general_file02\n",
      "2025-02-11 11:57:55,489 [AUDIT] [mdps_ds_lib.stage_in_out.upload_arbitrary_files_as_granules::11] uploading auxiliary file: auxiliary_files/mocked_general_file03\n",
      "2025-02-11 11:57:55,489 [AUDIT] [mdps_ds_lib.stage_in_out.upload_arbitrary_files_as_granules::11] uploading auxiliary file: auxiliary_files/mocked_general_file01\n"
     ]
    },
    {
     "name": "stdout",
     "output_type": "stream",
     "text": [
      "done\n"
     ]
    }
   ],
   "execution_count": 6
  },
  {
   "metadata": {},
   "cell_type": "code",
   "outputs": [],
   "execution_count": null,
   "source": "",
   "id": "2987dc7d3c9d0898"
  }
 ],
 "metadata": {
  "kernelspec": {
   "display_name": "Python 3",
   "language": "python",
   "name": "python3"
  },
  "language_info": {
   "codemirror_mode": {
    "name": "ipython",
    "version": 2
   },
   "file_extension": ".py",
   "mimetype": "text/x-python",
   "name": "python",
   "nbconvert_exporter": "python",
   "pygments_lexer": "ipython2",
   "version": "2.7.6"
  }
 },
 "nbformat": 4,
 "nbformat_minor": 5
}
